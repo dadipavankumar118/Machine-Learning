{
 "cells": [
  {
   "cell_type": "markdown",
   "id": "9680c62a-af72-43c5-9d6f-252a4c1d95c1",
   "metadata": {},
   "source": [
    "### 1. Problem Statement\n",
    "\n",
    "- Create a model for predict whether person is survived or not."
   ]
  },
  {
   "cell_type": "code",
   "execution_count": 1,
   "id": "7cfd97fd-b16c-4f07-b657-089326779611",
   "metadata": {},
   "outputs": [],
   "source": [
    "import pandas as pd\n",
    "import numpy as np\n",
    "import seaborn as sns\n",
    "import matplotlib.pyplot as plt\n",
    "import scipy.stats as ss\n",
    "import sklearn\n",
    "from sklearn.model_selection import train_test_split\n",
    "from sklearn.preprocessing import StandardScaler,OneHotEncoder,OrdinalEncoder,PowerTransformer,LabelEncoder,FunctionTransformer\n",
    "from sklearn.impute import SimpleImputer\n",
    "from sklearn.compose import ColumnTransformer\n",
    "from sklearn.pipeline import Pipeline,make_pipeline\n",
    "from mixed_naive_bayes import MixedNB\n",
    "from sklearn.metrics import classification_report,confusion_matrix\n",
    "import pickle"
   ]
  },
  {
   "cell_type": "markdown",
   "id": "11a76ee5-2fb1-41a3-bf2e-9e1774690fff",
   "metadata": {},
   "source": [
    "### 2. Data Collection"
   ]
  },
  {
   "cell_type": "code",
   "execution_count": 2,
   "id": "65d8ee81-3f18-4a7f-9ec7-08fab693be2d",
   "metadata": {},
   "outputs": [],
   "source": [
    "data = sns.load_dataset('titanic')"
   ]
  },
  {
   "cell_type": "code",
   "execution_count": 3,
   "id": "0c9f2831-2dde-4ecb-990f-df6956ae3406",
   "metadata": {},
   "outputs": [],
   "source": [
    "df = data.copy()"
   ]
  },
  {
   "cell_type": "code",
   "execution_count": 4,
   "id": "bf8c0a14-83f5-4ce4-b39b-7e8f2db2dc1c",
   "metadata": {},
   "outputs": [
    {
     "data": {
      "text/html": [
       "<div>\n",
       "<style scoped>\n",
       "    .dataframe tbody tr th:only-of-type {\n",
       "        vertical-align: middle;\n",
       "    }\n",
       "\n",
       "    .dataframe tbody tr th {\n",
       "        vertical-align: top;\n",
       "    }\n",
       "\n",
       "    .dataframe thead th {\n",
       "        text-align: right;\n",
       "    }\n",
       "</style>\n",
       "<table border=\"1\" class=\"dataframe\">\n",
       "  <thead>\n",
       "    <tr style=\"text-align: right;\">\n",
       "      <th></th>\n",
       "      <th>survived</th>\n",
       "      <th>pclass</th>\n",
       "      <th>sex</th>\n",
       "      <th>age</th>\n",
       "      <th>sibsp</th>\n",
       "      <th>parch</th>\n",
       "      <th>fare</th>\n",
       "      <th>embarked</th>\n",
       "      <th>class</th>\n",
       "      <th>who</th>\n",
       "      <th>adult_male</th>\n",
       "      <th>deck</th>\n",
       "      <th>embark_town</th>\n",
       "      <th>alive</th>\n",
       "      <th>alone</th>\n",
       "    </tr>\n",
       "  </thead>\n",
       "  <tbody>\n",
       "    <tr>\n",
       "      <th>0</th>\n",
       "      <td>0</td>\n",
       "      <td>3</td>\n",
       "      <td>male</td>\n",
       "      <td>22.0</td>\n",
       "      <td>1</td>\n",
       "      <td>0</td>\n",
       "      <td>7.2500</td>\n",
       "      <td>S</td>\n",
       "      <td>Third</td>\n",
       "      <td>man</td>\n",
       "      <td>True</td>\n",
       "      <td>NaN</td>\n",
       "      <td>Southampton</td>\n",
       "      <td>no</td>\n",
       "      <td>False</td>\n",
       "    </tr>\n",
       "    <tr>\n",
       "      <th>1</th>\n",
       "      <td>1</td>\n",
       "      <td>1</td>\n",
       "      <td>female</td>\n",
       "      <td>38.0</td>\n",
       "      <td>1</td>\n",
       "      <td>0</td>\n",
       "      <td>71.2833</td>\n",
       "      <td>C</td>\n",
       "      <td>First</td>\n",
       "      <td>woman</td>\n",
       "      <td>False</td>\n",
       "      <td>C</td>\n",
       "      <td>Cherbourg</td>\n",
       "      <td>yes</td>\n",
       "      <td>False</td>\n",
       "    </tr>\n",
       "    <tr>\n",
       "      <th>2</th>\n",
       "      <td>1</td>\n",
       "      <td>3</td>\n",
       "      <td>female</td>\n",
       "      <td>26.0</td>\n",
       "      <td>0</td>\n",
       "      <td>0</td>\n",
       "      <td>7.9250</td>\n",
       "      <td>S</td>\n",
       "      <td>Third</td>\n",
       "      <td>woman</td>\n",
       "      <td>False</td>\n",
       "      <td>NaN</td>\n",
       "      <td>Southampton</td>\n",
       "      <td>yes</td>\n",
       "      <td>True</td>\n",
       "    </tr>\n",
       "    <tr>\n",
       "      <th>3</th>\n",
       "      <td>1</td>\n",
       "      <td>1</td>\n",
       "      <td>female</td>\n",
       "      <td>35.0</td>\n",
       "      <td>1</td>\n",
       "      <td>0</td>\n",
       "      <td>53.1000</td>\n",
       "      <td>S</td>\n",
       "      <td>First</td>\n",
       "      <td>woman</td>\n",
       "      <td>False</td>\n",
       "      <td>C</td>\n",
       "      <td>Southampton</td>\n",
       "      <td>yes</td>\n",
       "      <td>False</td>\n",
       "    </tr>\n",
       "    <tr>\n",
       "      <th>4</th>\n",
       "      <td>0</td>\n",
       "      <td>3</td>\n",
       "      <td>male</td>\n",
       "      <td>35.0</td>\n",
       "      <td>0</td>\n",
       "      <td>0</td>\n",
       "      <td>8.0500</td>\n",
       "      <td>S</td>\n",
       "      <td>Third</td>\n",
       "      <td>man</td>\n",
       "      <td>True</td>\n",
       "      <td>NaN</td>\n",
       "      <td>Southampton</td>\n",
       "      <td>no</td>\n",
       "      <td>True</td>\n",
       "    </tr>\n",
       "  </tbody>\n",
       "</table>\n",
       "</div>"
      ],
      "text/plain": [
       "   survived  pclass     sex   age  sibsp  parch     fare embarked  class  \\\n",
       "0         0       3    male  22.0      1      0   7.2500        S  Third   \n",
       "1         1       1  female  38.0      1      0  71.2833        C  First   \n",
       "2         1       3  female  26.0      0      0   7.9250        S  Third   \n",
       "3         1       1  female  35.0      1      0  53.1000        S  First   \n",
       "4         0       3    male  35.0      0      0   8.0500        S  Third   \n",
       "\n",
       "     who  adult_male deck  embark_town alive  alone  \n",
       "0    man        True  NaN  Southampton    no  False  \n",
       "1  woman       False    C    Cherbourg   yes  False  \n",
       "2  woman       False  NaN  Southampton   yes   True  \n",
       "3  woman       False    C  Southampton   yes  False  \n",
       "4    man        True  NaN  Southampton    no   True  "
      ]
     },
     "execution_count": 4,
     "metadata": {},
     "output_type": "execute_result"
    }
   ],
   "source": [
    "df.head()"
   ]
  },
  {
   "cell_type": "markdown",
   "id": "5409c7f9-9a6b-4af9-9498-2c3906d613f8",
   "metadata": {},
   "source": [
    "### 3. EDA Before Pre-processing"
   ]
  },
  {
   "cell_type": "code",
   "execution_count": 5,
   "id": "0a8e1945-2792-4d43-9335-8673ba90e602",
   "metadata": {},
   "outputs": [
    {
     "data": {
      "text/plain": [
       "(891, 15)"
      ]
     },
     "execution_count": 5,
     "metadata": {},
     "output_type": "execute_result"
    }
   ],
   "source": [
    "df.shape"
   ]
  },
  {
   "cell_type": "code",
   "execution_count": 6,
   "id": "5c6103dd-ee9d-4040-b476-aef6dc5253da",
   "metadata": {},
   "outputs": [
    {
     "name": "stdout",
     "output_type": "stream",
     "text": [
      "<class 'pandas.core.frame.DataFrame'>\n",
      "RangeIndex: 891 entries, 0 to 890\n",
      "Data columns (total 15 columns):\n",
      " #   Column       Non-Null Count  Dtype   \n",
      "---  ------       --------------  -----   \n",
      " 0   survived     891 non-null    int64   \n",
      " 1   pclass       891 non-null    int64   \n",
      " 2   sex          891 non-null    object  \n",
      " 3   age          714 non-null    float64 \n",
      " 4   sibsp        891 non-null    int64   \n",
      " 5   parch        891 non-null    int64   \n",
      " 6   fare         891 non-null    float64 \n",
      " 7   embarked     889 non-null    object  \n",
      " 8   class        891 non-null    category\n",
      " 9   who          891 non-null    object  \n",
      " 10  adult_male   891 non-null    bool    \n",
      " 11  deck         203 non-null    category\n",
      " 12  embark_town  889 non-null    object  \n",
      " 13  alive        891 non-null    object  \n",
      " 14  alone        891 non-null    bool    \n",
      "dtypes: bool(2), category(2), float64(2), int64(4), object(5)\n",
      "memory usage: 80.7+ KB\n"
     ]
    }
   ],
   "source": [
    "df.info()"
   ]
  },
  {
   "cell_type": "code",
   "execution_count": 7,
   "id": "b86e53a5-6931-4114-87cf-38a8ef83add7",
   "metadata": {},
   "outputs": [
    {
     "data": {
      "text/plain": [
       "107"
      ]
     },
     "execution_count": 7,
     "metadata": {},
     "output_type": "execute_result"
    }
   ],
   "source": [
    "df.duplicated().sum() "
   ]
  },
  {
   "cell_type": "code",
   "execution_count": 8,
   "id": "b9f7ccac-1d04-4f6a-a75a-470cbd6478da",
   "metadata": {},
   "outputs": [],
   "source": [
    "df.drop_duplicates(keep= \"first\", inplace= True)"
   ]
  },
  {
   "cell_type": "code",
   "execution_count": 9,
   "id": "346cc850-2fb1-400a-8dd1-eb46bd7497bc",
   "metadata": {},
   "outputs": [
    {
     "data": {
      "text/plain": [
       "0"
      ]
     },
     "execution_count": 9,
     "metadata": {},
     "output_type": "execute_result"
    }
   ],
   "source": [
    "df.duplicated().sum() "
   ]
  },
  {
   "cell_type": "code",
   "execution_count": 10,
   "id": "84573b63-02f8-42ac-9f88-ea1941fffa70",
   "metadata": {},
   "outputs": [
    {
     "data": {
      "text/plain": [
       "Index(['survived', 'pclass', 'sex', 'age', 'sibsp', 'parch', 'fare',\n",
       "       'embarked', 'class', 'who', 'adult_male', 'deck', 'embark_town',\n",
       "       'alive', 'alone'],\n",
       "      dtype='object')"
      ]
     },
     "execution_count": 10,
     "metadata": {},
     "output_type": "execute_result"
    }
   ],
   "source": [
    "df.columns"
   ]
  },
  {
   "cell_type": "code",
   "execution_count": 11,
   "id": "7134c0be-4871-4bd1-8c89-665383a88ac4",
   "metadata": {},
   "outputs": [],
   "source": [
    "df = df[['survived','sex', 'age', 'fare','class','embark_town', 'alone']]"
   ]
  },
  {
   "cell_type": "code",
   "execution_count": 12,
   "id": "f391b480-7124-49d3-84cc-5c1fe2d8f9c4",
   "metadata": {},
   "outputs": [
    {
     "name": "stdout",
     "output_type": "stream",
     "text": [
      "<class 'pandas.core.frame.DataFrame'>\n",
      "Int64Index: 784 entries, 0 to 890\n",
      "Data columns (total 7 columns):\n",
      " #   Column       Non-Null Count  Dtype   \n",
      "---  ------       --------------  -----   \n",
      " 0   survived     784 non-null    int64   \n",
      " 1   sex          784 non-null    object  \n",
      " 2   age          678 non-null    float64 \n",
      " 3   fare         784 non-null    float64 \n",
      " 4   class        784 non-null    category\n",
      " 5   embark_town  782 non-null    object  \n",
      " 6   alone        784 non-null    bool    \n",
      "dtypes: bool(1), category(1), float64(2), int64(1), object(2)\n",
      "memory usage: 38.4+ KB\n"
     ]
    }
   ],
   "source": [
    "df.info()"
   ]
  },
  {
   "cell_type": "code",
   "execution_count": 13,
   "id": "568711a8-7a44-40ed-b6a2-2e634b6a8b22",
   "metadata": {},
   "outputs": [],
   "source": [
    "df = df.astype(dtype = {'class':'category','alone':'object'})"
   ]
  },
  {
   "cell_type": "code",
   "execution_count": 14,
   "id": "8cb05130-0960-4241-92de-cf7e6cc7768e",
   "metadata": {},
   "outputs": [
    {
     "name": "stdout",
     "output_type": "stream",
     "text": [
      "<class 'pandas.core.frame.DataFrame'>\n",
      "Int64Index: 784 entries, 0 to 890\n",
      "Data columns (total 7 columns):\n",
      " #   Column       Non-Null Count  Dtype   \n",
      "---  ------       --------------  -----   \n",
      " 0   survived     784 non-null    int64   \n",
      " 1   sex          784 non-null    object  \n",
      " 2   age          678 non-null    float64 \n",
      " 3   fare         784 non-null    float64 \n",
      " 4   class        784 non-null    category\n",
      " 5   embark_town  782 non-null    object  \n",
      " 6   alone        784 non-null    object  \n",
      "dtypes: category(1), float64(2), int64(1), object(3)\n",
      "memory usage: 43.8+ KB\n"
     ]
    }
   ],
   "source": [
    "df.info()"
   ]
  },
  {
   "cell_type": "code",
   "execution_count": 15,
   "id": "7da2c875-9b7a-411a-899c-0cd83ef25c89",
   "metadata": {},
   "outputs": [
    {
     "data": {
      "text/plain": [
       "0    461\n",
       "1    323\n",
       "Name: survived, dtype: int64"
      ]
     },
     "execution_count": 15,
     "metadata": {},
     "output_type": "execute_result"
    }
   ],
   "source": [
    "df['survived'].value_counts()"
   ]
  },
  {
   "cell_type": "code",
   "execution_count": 16,
   "id": "31f8a799-c3cd-42b8-aebf-7109957ffc8d",
   "metadata": {},
   "outputs": [
    {
     "data": {
      "text/plain": [
       "array(['Southampton', 'Cherbourg', 'Queenstown', nan], dtype=object)"
      ]
     },
     "execution_count": 16,
     "metadata": {},
     "output_type": "execute_result"
    }
   ],
   "source": [
    "df['embark_town'].unique()"
   ]
  },
  {
   "cell_type": "code",
   "execution_count": 17,
   "id": "d549bef7-e832-4cf7-a93d-09879f49e423",
   "metadata": {},
   "outputs": [
    {
     "data": {
      "text/plain": [
       "['Third', 'First', 'Second']\n",
       "Categories (3, object): ['First', 'Second', 'Third']"
      ]
     },
     "execution_count": 17,
     "metadata": {},
     "output_type": "execute_result"
    }
   ],
   "source": [
    "df['class'].unique()"
   ]
  },
  {
   "cell_type": "code",
   "execution_count": 18,
   "id": "1e47c6c4-16bc-4966-a4b6-8612823b49f3",
   "metadata": {},
   "outputs": [
    {
     "data": {
      "text/plain": [
       "array([False, True], dtype=object)"
      ]
     },
     "execution_count": 18,
     "metadata": {},
     "output_type": "execute_result"
    }
   ],
   "source": [
    "df['alone'].unique()"
   ]
  },
  {
   "cell_type": "code",
   "execution_count": 19,
   "id": "f40f82de-42f1-4544-a82f-baec5342ad36",
   "metadata": {},
   "outputs": [
    {
     "data": {
      "text/html": [
       "<div>\n",
       "<style scoped>\n",
       "    .dataframe tbody tr th:only-of-type {\n",
       "        vertical-align: middle;\n",
       "    }\n",
       "\n",
       "    .dataframe tbody tr th {\n",
       "        vertical-align: top;\n",
       "    }\n",
       "\n",
       "    .dataframe thead th {\n",
       "        text-align: right;\n",
       "    }\n",
       "</style>\n",
       "<table border=\"1\" class=\"dataframe\">\n",
       "  <thead>\n",
       "    <tr style=\"text-align: right;\">\n",
       "      <th></th>\n",
       "      <th>survived</th>\n",
       "      <th>age</th>\n",
       "      <th>fare</th>\n",
       "    </tr>\n",
       "  </thead>\n",
       "  <tbody>\n",
       "    <tr>\n",
       "      <th>count</th>\n",
       "      <td>784.000000</td>\n",
       "      <td>678.000000</td>\n",
       "      <td>784.000000</td>\n",
       "    </tr>\n",
       "    <tr>\n",
       "      <th>mean</th>\n",
       "      <td>0.411990</td>\n",
       "      <td>29.869351</td>\n",
       "      <td>34.711740</td>\n",
       "    </tr>\n",
       "    <tr>\n",
       "      <th>std</th>\n",
       "      <td>0.492507</td>\n",
       "      <td>14.759076</td>\n",
       "      <td>52.160151</td>\n",
       "    </tr>\n",
       "    <tr>\n",
       "      <th>min</th>\n",
       "      <td>0.000000</td>\n",
       "      <td>0.420000</td>\n",
       "      <td>0.000000</td>\n",
       "    </tr>\n",
       "    <tr>\n",
       "      <th>25%</th>\n",
       "      <td>0.000000</td>\n",
       "      <td>20.000000</td>\n",
       "      <td>8.050000</td>\n",
       "    </tr>\n",
       "    <tr>\n",
       "      <th>50%</th>\n",
       "      <td>0.000000</td>\n",
       "      <td>28.250000</td>\n",
       "      <td>15.900000</td>\n",
       "    </tr>\n",
       "    <tr>\n",
       "      <th>75%</th>\n",
       "      <td>1.000000</td>\n",
       "      <td>39.000000</td>\n",
       "      <td>34.109350</td>\n",
       "    </tr>\n",
       "    <tr>\n",
       "      <th>max</th>\n",
       "      <td>1.000000</td>\n",
       "      <td>80.000000</td>\n",
       "      <td>512.329200</td>\n",
       "    </tr>\n",
       "  </tbody>\n",
       "</table>\n",
       "</div>"
      ],
      "text/plain": [
       "         survived         age        fare\n",
       "count  784.000000  678.000000  784.000000\n",
       "mean     0.411990   29.869351   34.711740\n",
       "std      0.492507   14.759076   52.160151\n",
       "min      0.000000    0.420000    0.000000\n",
       "25%      0.000000   20.000000    8.050000\n",
       "50%      0.000000   28.250000   15.900000\n",
       "75%      1.000000   39.000000   34.109350\n",
       "max      1.000000   80.000000  512.329200"
      ]
     },
     "execution_count": 19,
     "metadata": {},
     "output_type": "execute_result"
    }
   ],
   "source": [
    "df.describe()"
   ]
  },
  {
   "cell_type": "code",
   "execution_count": 20,
   "id": "0c6e2c0c-d9d9-4ec1-9242-88de84684740",
   "metadata": {},
   "outputs": [],
   "source": [
    "feature_var = df[['sex', 'age', 'fare', 'class', 'embark_town', 'alone']]"
   ]
  },
  {
   "cell_type": "code",
   "execution_count": 21,
   "id": "8aef4350-f4f3-4a0a-b493-f5b56181a75f",
   "metadata": {},
   "outputs": [
    {
     "data": {
      "text/html": [
       "<div>\n",
       "<style scoped>\n",
       "    .dataframe tbody tr th:only-of-type {\n",
       "        vertical-align: middle;\n",
       "    }\n",
       "\n",
       "    .dataframe tbody tr th {\n",
       "        vertical-align: top;\n",
       "    }\n",
       "\n",
       "    .dataframe thead th {\n",
       "        text-align: right;\n",
       "    }\n",
       "</style>\n",
       "<table border=\"1\" class=\"dataframe\">\n",
       "  <thead>\n",
       "    <tr style=\"text-align: right;\">\n",
       "      <th></th>\n",
       "      <th>sex</th>\n",
       "      <th>age</th>\n",
       "      <th>fare</th>\n",
       "      <th>class</th>\n",
       "      <th>embark_town</th>\n",
       "      <th>alone</th>\n",
       "    </tr>\n",
       "  </thead>\n",
       "  <tbody>\n",
       "    <tr>\n",
       "      <th>0</th>\n",
       "      <td>male</td>\n",
       "      <td>22.0</td>\n",
       "      <td>7.2500</td>\n",
       "      <td>Third</td>\n",
       "      <td>Southampton</td>\n",
       "      <td>False</td>\n",
       "    </tr>\n",
       "    <tr>\n",
       "      <th>1</th>\n",
       "      <td>female</td>\n",
       "      <td>38.0</td>\n",
       "      <td>71.2833</td>\n",
       "      <td>First</td>\n",
       "      <td>Cherbourg</td>\n",
       "      <td>False</td>\n",
       "    </tr>\n",
       "    <tr>\n",
       "      <th>2</th>\n",
       "      <td>female</td>\n",
       "      <td>26.0</td>\n",
       "      <td>7.9250</td>\n",
       "      <td>Third</td>\n",
       "      <td>Southampton</td>\n",
       "      <td>True</td>\n",
       "    </tr>\n",
       "    <tr>\n",
       "      <th>3</th>\n",
       "      <td>female</td>\n",
       "      <td>35.0</td>\n",
       "      <td>53.1000</td>\n",
       "      <td>First</td>\n",
       "      <td>Southampton</td>\n",
       "      <td>False</td>\n",
       "    </tr>\n",
       "    <tr>\n",
       "      <th>4</th>\n",
       "      <td>male</td>\n",
       "      <td>35.0</td>\n",
       "      <td>8.0500</td>\n",
       "      <td>Third</td>\n",
       "      <td>Southampton</td>\n",
       "      <td>True</td>\n",
       "    </tr>\n",
       "  </tbody>\n",
       "</table>\n",
       "</div>"
      ],
      "text/plain": [
       "      sex   age     fare  class  embark_town  alone\n",
       "0    male  22.0   7.2500  Third  Southampton  False\n",
       "1  female  38.0  71.2833  First    Cherbourg  False\n",
       "2  female  26.0   7.9250  Third  Southampton   True\n",
       "3  female  35.0  53.1000  First  Southampton  False\n",
       "4    male  35.0   8.0500  Third  Southampton   True"
      ]
     },
     "execution_count": 21,
     "metadata": {},
     "output_type": "execute_result"
    }
   ],
   "source": [
    "feature_var.head()"
   ]
  },
  {
   "cell_type": "code",
   "execution_count": 22,
   "id": "fb04534e-9cea-4272-8324-1e583fd68029",
   "metadata": {},
   "outputs": [],
   "source": [
    "class_var = df['survived']"
   ]
  },
  {
   "cell_type": "code",
   "execution_count": 23,
   "id": "db2cd338-9335-4d9b-9b0e-5edd7b823cbb",
   "metadata": {},
   "outputs": [
    {
     "data": {
      "text/plain": [
       "0    0\n",
       "1    1\n",
       "2    1\n",
       "3    1\n",
       "4    0\n",
       "Name: survived, dtype: int64"
      ]
     },
     "execution_count": 23,
     "metadata": {},
     "output_type": "execute_result"
    }
   ],
   "source": [
    "class_var.head()"
   ]
  },
  {
   "cell_type": "code",
   "execution_count": 24,
   "id": "2c755800-bcfb-4f20-a345-aea6f28d06c8",
   "metadata": {},
   "outputs": [],
   "source": [
    "df[\"survived\"] = df[\"survived\"].map({0:\"Un survived\", 1:\"Survived\"})"
   ]
  },
  {
   "cell_type": "code",
   "execution_count": 25,
   "id": "d6f57a99-ed4c-42a2-ac06-b03b158af0e2",
   "metadata": {},
   "outputs": [
    {
     "data": {
      "image/png": "[encoded data removed]",
      "text/plain": [
       "<Figure size 640x480 with 1 Axes>"
      ]
     },
     "metadata": {},
     "output_type": "display_data"
    }
   ],
   "source": [
    "sns.countplot(data= df, x= 'survived')\n",
    "plt.show()"
   ]
  },
  {
   "cell_type": "markdown",
   "id": "3d013a40-028c-4dad-aa80-ad8c196bd0af",
   "metadata": {},
   "source": [
    "### 4. Pre-processing"
   ]
  },
  {
   "cell_type": "code",
   "execution_count": 26,
   "id": "bdbdd1cf-4eda-4523-93be-6fd88b9425e2",
   "metadata": {},
   "outputs": [],
   "source": [
    "x_train,x_test,y_train,y_test = train_test_split(feature_var, class_var, test_size= 0.2, random_state= 1, stratify= class_var)"
   ]
  },
  {
   "cell_type": "code",
   "execution_count": 27,
   "id": "612486ab-0de4-4cd9-a0bb-a6b52e3786ff",
   "metadata": {},
   "outputs": [
    {
     "data": {
      "text/html": [
       "<div>\n",
       "<style scoped>\n",
       "    .dataframe tbody tr th:only-of-type {\n",
       "        vertical-align: middle;\n",
       "    }\n",
       "\n",
       "    .dataframe tbody tr th {\n",
       "        vertical-align: top;\n",
       "    }\n",
       "\n",
       "    .dataframe thead th {\n",
       "        text-align: right;\n",
       "    }\n",
       "</style>\n",
       "<table border=\"1\" class=\"dataframe\">\n",
       "  <thead>\n",
       "    <tr style=\"text-align: right;\">\n",
       "      <th></th>\n",
       "      <th>sex</th>\n",
       "      <th>age</th>\n",
       "      <th>fare</th>\n",
       "      <th>class</th>\n",
       "      <th>embark_town</th>\n",
       "      <th>alone</th>\n",
       "    </tr>\n",
       "  </thead>\n",
       "  <tbody>\n",
       "    <tr>\n",
       "      <th>155</th>\n",
       "      <td>male</td>\n",
       "      <td>51.0</td>\n",
       "      <td>61.3792</td>\n",
       "      <td>First</td>\n",
       "      <td>Cherbourg</td>\n",
       "      <td>False</td>\n",
       "    </tr>\n",
       "    <tr>\n",
       "      <th>768</th>\n",
       "      <td>male</td>\n",
       "      <td>NaN</td>\n",
       "      <td>24.1500</td>\n",
       "      <td>Third</td>\n",
       "      <td>Queenstown</td>\n",
       "      <td>False</td>\n",
       "    </tr>\n",
       "    <tr>\n",
       "      <th>345</th>\n",
       "      <td>female</td>\n",
       "      <td>24.0</td>\n",
       "      <td>13.0000</td>\n",
       "      <td>Second</td>\n",
       "      <td>Southampton</td>\n",
       "      <td>True</td>\n",
       "    </tr>\n",
       "    <tr>\n",
       "      <th>679</th>\n",
       "      <td>male</td>\n",
       "      <td>36.0</td>\n",
       "      <td>512.3292</td>\n",
       "      <td>First</td>\n",
       "      <td>Cherbourg</td>\n",
       "      <td>False</td>\n",
       "    </tr>\n",
       "    <tr>\n",
       "      <th>185</th>\n",
       "      <td>male</td>\n",
       "      <td>NaN</td>\n",
       "      <td>50.0000</td>\n",
       "      <td>First</td>\n",
       "      <td>Southampton</td>\n",
       "      <td>True</td>\n",
       "    </tr>\n",
       "  </tbody>\n",
       "</table>\n",
       "</div>"
      ],
      "text/plain": [
       "        sex   age      fare   class  embark_town  alone\n",
       "155    male  51.0   61.3792   First    Cherbourg  False\n",
       "768    male   NaN   24.1500   Third   Queenstown  False\n",
       "345  female  24.0   13.0000  Second  Southampton   True\n",
       "679    male  36.0  512.3292   First    Cherbourg  False\n",
       "185    male   NaN   50.0000   First  Southampton   True"
      ]
     },
     "execution_count": 27,
     "metadata": {},
     "output_type": "execute_result"
    }
   ],
   "source": [
    "x_train.head()"
   ]
  },
  {
   "cell_type": "markdown",
   "id": "7fd4d471-a81a-44b6-ac93-bee359fcaa4c",
   "metadata": {},
   "source": [
    "### 5. EDA After Pre-Processing"
   ]
  },
  {
   "cell_type": "code",
   "execution_count": 28,
   "id": "c98d5f35-cdba-4cbf-a870-53f223f1a000",
   "metadata": {},
   "outputs": [
    {
     "data": {
      "text/html": [
       "<div>\n",
       "<style scoped>\n",
       "    .dataframe tbody tr th:only-of-type {\n",
       "        vertical-align: middle;\n",
       "    }\n",
       "\n",
       "    .dataframe tbody tr th {\n",
       "        vertical-align: top;\n",
       "    }\n",
       "\n",
       "    .dataframe thead th {\n",
       "        text-align: right;\n",
       "    }\n",
       "</style>\n",
       "<table border=\"1\" class=\"dataframe\">\n",
       "  <thead>\n",
       "    <tr style=\"text-align: right;\">\n",
       "      <th></th>\n",
       "      <th>age</th>\n",
       "      <th>fare</th>\n",
       "    </tr>\n",
       "  </thead>\n",
       "  <tbody>\n",
       "    <tr>\n",
       "      <th>age</th>\n",
       "      <td>1.000000</td>\n",
       "      <td>0.053703</td>\n",
       "    </tr>\n",
       "    <tr>\n",
       "      <th>fare</th>\n",
       "      <td>0.053703</td>\n",
       "      <td>1.000000</td>\n",
       "    </tr>\n",
       "  </tbody>\n",
       "</table>\n",
       "</div>"
      ],
      "text/plain": [
       "           age      fare\n",
       "age   1.000000  0.053703\n",
       "fare  0.053703  1.000000"
      ]
     },
     "execution_count": 28,
     "metadata": {},
     "output_type": "execute_result"
    }
   ],
   "source": [
    "x_train.corr(numeric_only= True)"
   ]
  },
  {
   "cell_type": "code",
   "execution_count": 29,
   "id": "049e1791-30f9-459f-9ba6-fc4fb174ea8e",
   "metadata": {},
   "outputs": [
    {
     "data": {
      "text/plain": [
       "<Axes: >"
      ]
     },
     "execution_count": 29,
     "metadata": {},
     "output_type": "execute_result"
    },
    {
     "data": {
      "image/png": "[encoded data removed]",
      "text/plain": [
       "<Figure size 640x480 with 2 Axes>"
      ]
     },
     "metadata": {},
     "output_type": "display_data"
    }
   ],
   "source": [
    "sns.heatmap(x_train.corr(numeric_only= True), annot= True)"
   ]
  },
  {
   "cell_type": "code",
   "execution_count": 30,
   "id": "78b10b4d-a726-4e60-9ac1-dd99a8e30a12",
   "metadata": {},
   "outputs": [
    {
     "data": {
      "image/png": "[encoded data removed]",
      "text/plain": [
       "<Figure size 640x480 with 1 Axes>"
      ]
     },
     "metadata": {},
     "output_type": "display_data"
    }
   ],
   "source": [
    "ss.probplot(x_train[\"fare\"],dist = \"norm\",fit = True,plot = plt)   # x_train[\"size\"] = observed data , norm = theoritical data\n",
    "plt.show()"
   ]
  },
  {
   "cell_type": "code",
   "execution_count": 31,
   "id": "e75496d1-226b-41a3-b92f-b8b5018fb098",
   "metadata": {},
   "outputs": [
    {
     "data": {
      "image/png": "[encoded data removed]",
      "text/plain": [
       "<Figure size 640x480 with 1 Axes>"
      ]
     },
     "metadata": {},
     "output_type": "display_data"
    }
   ],
   "source": [
    "ss.probplot(x_train[\"age\"],dist = \"norm\",fit = True,plot = plt)   # x_train[\"size\"] = observed data , norm = theoritical data\n",
    "plt.show()"
   ]
  },
  {
   "cell_type": "markdown",
   "id": "969460ac-f4f7-4f7b-b98b-699db1fe2d5e",
   "metadata": {},
   "source": [
    "### 6. Feature Engineering"
   ]
  },
  {
   "cell_type": "code",
   "execution_count": 32,
   "id": "ac8d39ab-42e3-4a58-9058-5729e8f8fb3a",
   "metadata": {},
   "outputs": [],
   "source": [
    "numerical_data = x_train.select_dtypes(include= ['int64','float64'])"
   ]
  },
  {
   "cell_type": "code",
   "execution_count": 33,
   "id": "41e66caf-f56b-44d1-8ce8-4eb25dea7361",
   "metadata": {},
   "outputs": [],
   "source": [
    "ordinal_data = x_train.select_dtypes(include= ['category'])"
   ]
  },
  {
   "cell_type": "code",
   "execution_count": 34,
   "id": "81bcd7e5-0bfc-402d-b2ab-0aa6eb8bd394",
   "metadata": {},
   "outputs": [],
   "source": [
    "nominal_data = x_train.select_dtypes(include= ['object'])"
   ]
  },
  {
   "cell_type": "code",
   "execution_count": 35,
   "id": "26abd98b-ecdd-4c85-be06-0b08bed58edc",
   "metadata": {},
   "outputs": [],
   "source": [
    "numerical_pipe = Pipeline([('Null_values_imputation_1', SimpleImputer(strategy='mean')),\n",
    "                           ('StandardScalar', StandardScaler()),\n",
    "                           ('Power_Transform',PowerTransformer())])"
   ]
  },
  {
   "cell_type": "code",
   "execution_count": 36,
   "id": "e298b731-3bff-42a7-8891-1ba05f69bd0d",
   "metadata": {},
   "outputs": [],
   "source": [
    "nominal_pipe = Pipeline([('Null_values_imputation_2', SimpleImputer(strategy='most_frequent')),\n",
    "                         ('OH_Encoding', OneHotEncoder(sparse_output= False, drop= 'first'))])"
   ]
  },
  {
   "cell_type": "code",
   "execution_count": 37,
   "id": "ece7eccc-62ed-42a8-a696-50ca9f153d02",
   "metadata": {},
   "outputs": [],
   "source": [
    "ordinal_pipe = Pipeline([('Null_values_imputation_2', SimpleImputer(strategy='most_frequent')),\n",
    "                         ('Ordinal_Encoding', OrdinalEncoder(categories= [['First', 'Second', 'Third']]))])"
   ]
  },
  {
   "cell_type": "code",
   "execution_count": 38,
   "id": "195d4d40-cb75-4672-847a-c68b8cfe448a",
   "metadata": {},
   "outputs": [],
   "source": [
    "prepro_col_trans = ColumnTransformer(transformers= [('Ordinal_Pre-Processing', ordinal_pipe, ordinal_data.columns),\n",
    "                                                    ('Nominal_Pre-Processing', nominal_pipe, nominal_data.columns),\n",
    "                                                    ('numerical_Pre-Processing', numerical_pipe, numerical_data.columns)],\n",
    "                                     remainder=\"passthrough\")"
   ]
  },
  {
   "cell_type": "code",
   "execution_count": 39,
   "id": "dc4602ef-a16c-43f9-819a-1c4b6c552958",
   "metadata": {},
   "outputs": [],
   "source": [
    "feature_extraction_pipe = Pipeline([('Pre-Processing',prepro_col_trans)])"
   ]
  },
  {
   "cell_type": "code",
   "execution_count": 40,
   "id": "00b7571d-fec1-44e3-a758-d0ba8acca6f7",
   "metadata": {},
   "outputs": [],
   "source": [
    "final_x_train = feature_extraction_pipe.fit_transform(x_train)\n",
    "\n",
    "final_x_test = feature_extraction_pipe.transform(x_test)"
   ]
  },
  {
   "cell_type": "code",
   "execution_count": 41,
   "id": "081232eb-841b-4b9e-929e-01118016f894",
   "metadata": {},
   "outputs": [
    {
     "data": {
      "text/plain": [
       "array(['Ordinal_Pre-Processing__class',\n",
       "       'Nominal_Pre-Processing__sex_male',\n",
       "       'Nominal_Pre-Processing__embark_town_Queenstown',\n",
       "       'Nominal_Pre-Processing__embark_town_Southampton',\n",
       "       'Nominal_Pre-Processing__alone_True',\n",
       "       'numerical_Pre-Processing__age', 'numerical_Pre-Processing__fare'],\n",
       "      dtype=object)"
      ]
     },
     "execution_count": 41,
     "metadata": {},
     "output_type": "execute_result"
    }
   ],
   "source": [
    "feature_extraction_pipe.get_feature_names_out()"
   ]
  },
  {
   "cell_type": "code",
   "execution_count": 42,
   "id": "cd52e1bc-fb90-43d3-9cb3-18f591c2e93a",
   "metadata": {},
   "outputs": [],
   "source": [
    "pickle.dump(feature_extraction_pipe, open(r\"C:\\Users\\pavan\\Machine Learning\\Projects\\Project-4(Titanic)\\Titanic_feature_extraction.pkl\",'wb'))"
   ]
  },
  {
   "cell_type": "markdown",
   "id": "e74f28d6-0b99-4028-b123-92c45d671d26",
   "metadata": {},
   "source": [
    "### 7. Training & Model Evalution"
   ]
  },
  {
   "cell_type": "code",
   "execution_count": 43,
   "id": "1087f747-29dc-4b3e-b7fd-25528dc5c875",
   "metadata": {},
   "outputs": [],
   "source": [
    "mixed_nb = MixedNB(categorical_features= [0,1,2,3,4])\n",
    "model = mixed_nb.fit(final_x_train, y_train)"
   ]
  },
  {
   "cell_type": "code",
   "execution_count": 44,
   "id": "9f3562f5-5fbc-4406-a854-e96660b1057c",
   "metadata": {},
   "outputs": [
    {
     "name": "stdout",
     "output_type": "stream",
     "text": [
      "              precision    recall  f1-score   support\n",
      "\n",
      "           0       0.79      0.78      0.79        92\n",
      "           1       0.70      0.71      0.70        65\n",
      "\n",
      "    accuracy                           0.75       157\n",
      "   macro avg       0.74      0.75      0.74       157\n",
      "weighted avg       0.75      0.75      0.75       157\n",
      "\n"
     ]
    }
   ],
   "source": [
    "print(classification_report(y_test, model.predict(final_x_test)))"
   ]
  },
  {
   "cell_type": "markdown",
   "id": "7c482f34-feed-478e-b005-119e55598b33",
   "metadata": {},
   "source": [
    "### 8. Testing"
   ]
  },
  {
   "cell_type": "code",
   "execution_count": 45,
   "id": "1e91abf8-0422-4b38-af88-2f3cf4809cda",
   "metadata": {},
   "outputs": [
    {
     "name": "stdout",
     "output_type": "stream",
     "text": [
      "Un servived\n"
     ]
    }
   ],
   "source": [
    "res = model.predict(final_x_test[[0]])\n",
    "if res == 0:\n",
    "  print(\"Un servived\")\n",
    "else:\n",
    "  print(\"Survived\")"
   ]
  },
  {
   "cell_type": "markdown",
   "id": "d318471a-7226-4e1f-a6c2-1277c1b641d6",
   "metadata": {},
   "source": [
    "### 9. Deploying"
   ]
  },
  {
   "cell_type": "code",
   "execution_count": 46,
   "id": "4b1237b6-0f17-4c1b-8a6d-b4af68376343",
   "metadata": {},
   "outputs": [],
   "source": [
    "pickle.dump(model, open(r\"C:\\Users\\pavan\\Machine Learning\\Projects\\Project-4(Titanic)\\Titanic_model.pkl\",'wb'))"
   ]
  },
  {
   "cell_type": "markdown",
   "id": "1884540b-0424-4624-923a-b38aa403d57a",
   "metadata": {},
   "source": [
    "### 10.Conclusion"
   ]
  },
  {
   "cell_type": "markdown",
   "id": "21379b99-2ed4-403b-b23f-5d2da3bb44c2",
   "metadata": {},
   "source": [
    "In conclusion, the development of machine learning models for predicting passenger survival outcomes Through meticulous data preprocessing, feature selection, and model optimization, researchers have been able to construct highly accurate classifiers capable of discerning survival probabilities with remarkable precision. Identification of key predictors, shedding light on the underlying factors that contribute to survival in emergency situations. Features such as age, gender, ticket class, and familial relationships have emerged as influential variables, offering valuable insights into the dynamics of human behavior and decision-making during crises."
   ]
  }
 ],
 "metadata": {
  "kernelspec": {
   "display_name": "Python 3 (ipykernel)",
   "language": "python",
   "name": "python3"
  },
  "language_info": {
   "codemirror_mode": {
    "name": "ipython",
    "version": 3
   },
   "file_extension": ".py",
   "mimetype": "text/x-python",
   "name": "python",
   "nbconvert_exporter": "python",
   "pygments_lexer": "ipython3",
   "version": "3.10.9"
  }
 },
 "nbformat": 4,
 "nbformat_minor": 5
}
